{
 "cells": [
  {
   "cell_type": "markdown",
   "id": "0bdcc34a",
   "metadata": {},
   "source": [
    "## EDA (Explorativ Data Analys) - Bibliotek\n",
    "\n",
    "Stadsbiblioteket vill ha ett snabbt, körbar beslutsunderlag:\n",
    "\n",
    "1. Vad lånas mest? - genrer och medietyper\n",
    "2. Var lånas mest? - filialer\n",
    "3. När lånas det? - månad/vecka\n",
    "4. Typisk utlåning - genomsnittlig lånetid och spridning\n",
    "5. Topp-listor - topp 3 genrer/filialer"
   ]
  }
 ],
 "metadata": {
  "kernelspec": {
   "display_name": ".venv",
   "language": "python",
   "name": "python3"
  },
  "language_info": {
   "name": "python",
   "version": "3.13.7"
  }
 },
 "nbformat": 4,
 "nbformat_minor": 5
}
