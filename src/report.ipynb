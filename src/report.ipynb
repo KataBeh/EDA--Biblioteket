{
 "cells": [
  {
   "cell_type": "code",
   "execution_count": null,
   "id": "77f7a8b5",
   "metadata": {},
   "outputs": [],
   "source": [
    "\n",
    "from io_utils import load_data, coerce_numeric\n",
    "\n",
    "df = coerce_numeric(load_data(\"../library_loans.csv\"))\n",
    "df = df.dropna(subset=[\"loan_days\"]).copy()\n",
    "df = df[df[\"loan_days\"] > 0 ].copy()\n",
    "\n",
    "df[\"month\"] = df[\"checkout_date\"].dt.to_period(\"M\").dt.to_timestamp()\n",
    "\n",
    "df[\"week\"] = df[\"checkout_date\"].dt.to_period(\"W\").dt.start_time\n",
    "\n",
    "df.info()"
   ]
  },
  {
   "cell_type": "code",
   "execution_count": 14,
   "id": "33f71028",
   "metadata": {},
   "outputs": [
    {
     "name": "stdout",
     "output_type": "stream",
     "text": [
      "Total antal lån: 130\n",
      "Genomsnittlig lånetid (dagar): 22.2\n",
      "Andel övertid (%): 63.1%\n"
     ]
    }
   ],
   "source": [
    "import metrics as M\n",
    "\n",
    "print(\"Total antal lån:\", M.total_loans(df))\n",
    "print(\"Genomsnittlig lånetid (dagar):\", f\"{M.avg_loan_days(df):.1f}\")\n",
    "print(\"Andel övertid (%):\", f\"{100 * M.overdue_rate(df):.1f}%\")"
   ]
  }
 ],
 "metadata": {
  "kernelspec": {
   "display_name": ".venv",
   "language": "python",
   "name": "python3"
  },
  "language_info": {
   "codemirror_mode": {
    "name": "ipython",
    "version": 3
   },
   "file_extension": ".py",
   "mimetype": "text/x-python",
   "name": "python",
   "nbconvert_exporter": "python",
   "pygments_lexer": "ipython3",
   "version": "3.13.7"
  }
 },
 "nbformat": 4,
 "nbformat_minor": 5
}
