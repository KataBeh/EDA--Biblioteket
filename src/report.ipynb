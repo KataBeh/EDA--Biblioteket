{
 "cells": [
  {
   "cell_type": "code",
   "execution_count": 1,
   "id": "77f7a8b5",
   "metadata": {},
   "outputs": [
    {
     "name": "stdout",
     "output_type": "stream",
     "text": [
      "<class 'pandas.core.frame.DataFrame'>\n",
      "RangeIndex: 130 entries, 0 to 129\n",
      "Data columns (total 12 columns):\n",
      " #   Column            Non-Null Count  Dtype         \n",
      "---  ------            --------------  -----         \n",
      " 0   loan_id           130 non-null    object        \n",
      " 1   checkout_date     130 non-null    datetime64[ns]\n",
      " 2   branch            130 non-null    object        \n",
      " 3   genre             130 non-null    object        \n",
      " 4   item_type         130 non-null    object        \n",
      " 5   patron_age_group  130 non-null    object        \n",
      " 6   loan_days         130 non-null    int64         \n",
      " 7   returned_date     130 non-null    datetime64[ns]\n",
      " 8   overdue_days      130 non-null    int64         \n",
      " 9   fine_amount       130 non-null    float64       \n",
      " 10  month             130 non-null    datetime64[ns]\n",
      " 11  week              130 non-null    datetime64[ns]\n",
      "dtypes: datetime64[ns](4), float64(1), int64(2), object(5)\n",
      "memory usage: 12.3+ KB\n"
     ]
    }
   ],
   "source": [
    "\n",
    "from io_utils import load_data, coerce_numeric\n",
    "\n",
    "df = coerce_numeric(load_data(\"../library_loans.csv\"))\n",
    "df = df.dropna(subset=[\"loan_days\"]).copy()\n",
    "df = df[df[\"loan_days\"] > 0 ].copy()\n",
    "\n",
    "df[\"month\"] = df[\"checkout_date\"].dt.to_period(\"M\").dt.to_timestamp()\n",
    "\n",
    "df[\"week\"] = df[\"checkout_date\"].dt.to_period(\"W\").dt.start_time\n",
    "\n",
    "df.info()"
   ]
  },
  {
   "cell_type": "code",
   "execution_count": 2,
   "id": "33f71028",
   "metadata": {},
   "outputs": [
    {
     "name": "stdout",
     "output_type": "stream",
     "text": [
      "Total antal lån: 130\n",
      "Genomsnittlig lånetid (dagar): 22.2\n",
      "Andel övertid (%): 63.1%\n"
     ]
    }
   ],
   "source": [
    "import metrics as M\n",
    "\n",
    "print(\"Total antal lån:\", M.total_loans(df))\n",
    "print(\"Genomsnittlig lånetid (dagar):\", f\"{M.avg_loan_days(df):.1f}\")\n",
    "print(\"Andel övertid (%):\", f\"{100 * M.overdue_rate(df):.1f}%\")"
   ]
  },
  {
   "cell_type": "code",
   "execution_count": 4,
   "id": "04d8c1e3",
   "metadata": {},
   "outputs": [
    {
     "data": {
      "text/plain": [
       "(      genre  loans\n",
       " 0   Deckare     35\n",
       " 1     Roman     32\n",
       " 2  Biografi     24\n",
       " 3     Fakta     15\n",
       " 4    Sci-Fi     14\n",
       " 5  Romantik     10,\n",
       "     branch  loans\n",
       " 0  Centrum     45\n",
       " 1   Väster     27\n",
       " 2    Öster     25\n",
       " 3    Söder     19\n",
       " 4     Norr     14)"
      ]
     },
     "execution_count": 4,
     "metadata": {},
     "output_type": "execute_result"
    }
   ],
   "source": [
    "by_genre = M.loans_by_genre(df)\n",
    "by_branch = M.loans_by_branch(df)\n",
    "by_genre, by_branch"
   ]
  }
 ],
 "metadata": {
  "kernelspec": {
   "display_name": ".venv",
   "language": "python",
   "name": "python3"
  },
  "language_info": {
   "codemirror_mode": {
    "name": "ipython",
    "version": 3
   },
   "file_extension": ".py",
   "mimetype": "text/x-python",
   "name": "python",
   "nbconvert_exporter": "python",
   "pygments_lexer": "ipython3",
   "version": "3.13.7"
  }
 },
 "nbformat": 4,
 "nbformat_minor": 5
}
